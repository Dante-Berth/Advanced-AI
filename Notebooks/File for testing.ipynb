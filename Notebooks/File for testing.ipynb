{
 "cells": [
  {
   "cell_type": "code",
   "execution_count": 1,
   "id": "91756ee5",
   "metadata": {},
   "outputs": [],
   "source": [
    "import optuna\n",
    "import tensorflow as tf\n"
   ]
  },
  {
   "cell_type": "code",
   "execution_count": null,
   "id": "9ab5172d",
   "metadata": {},
   "outputs": [],
   "source": [
    "import tensorflow as tf\n",
    "from tensorflow.keras import layers\n",
    "import optuna\n",
    "\n",
    "\n",
    "# Load the MNIST dataset\n",
    "(x_train, y_train), (x_test, y_test) = tf.keras.datasets.mnist.load_data()\n",
    "\n",
    "# Normalize pixel values between 0 and 1\n",
    "x_train = x_train.astype(\"float32\") / 255.0\n",
    "x_test = x_test.astype(\"float32\") / 255.0\n",
    "\n",
    "# Add a channel dimension (for grayscale images)\n",
    "x_train = tf.expand_dims(x_train, -1)\n",
    "x_test = tf.expand_dims(x_test, -1)\n",
    "\n",
    "# Define the objective function for Optuna\n",
    "def objective(trial):\n",
    "    \n",
    "\n",
    "    # Define the model architecture\n",
    "    model = tf.keras.Sequential()\n",
    "    \n",
    "    # Add the convolutional layers\n",
    "    model.add(layers.Conv2D(\n",
    "        trial.suggest_int(\"conv1_filters\", 16, 64, log=True),\n",
    "        (3, 3),\n",
    "        activation=\"relu\",\n",
    "        input_shape=(28, 28, 1)\n",
    "    ))\n",
    "    model.add(layers.MaxPooling2D((2, 2)))\n",
    "\n",
    "    model.add(layers.Conv2D(\n",
    "        trial.suggest_int(\"conv2_filters\", 32, 128, log=True),\n",
    "        (3, 3),\n",
    "        activation=\"relu\"\n",
    "    ))\n",
    "    model.add(layers.MaxPooling2D((2, 2)))\n",
    "\n",
    "    model.add(layers.Flatten())\n",
    "\n",
    "    # Add the dense layers\n",
    "    model.add(layers.Dense(\n",
    "        trial.suggest_int(\"dense_units\", 32, 128, log=True),\n",
    "        activation=\"relu\"\n",
    "    ))\n",
    "\n",
    "    model.add(layers.Dense(10, activation=\"softmax\"))\n",
    "\n",
    "    # Compile the model\n",
    "    model.compile(\n",
    "        optimizer=\"adam\",\n",
    "        loss=tf.keras.losses.SparseCategoricalCrossentropy(from_logits=True),\n",
    "        metrics=[\"accuracy\"]\n",
    "    )\n",
    "\n",
    "    # Train the model\n",
    "    model.fit(x_train, y_train, epochs=5, validation_data=(x_test, y_test), verbose=1)\n",
    "\n",
    "    # Evaluate the model\n",
    "    _, accuracy = model.evaluate(x_test, y_test)\n",
    "\n",
    "    # Return the negative accuracy (as Optuna tries to minimize the objective)\n",
    "    return -accuracy\n",
    "\n",
    "# Create an Optuna study and optimize the objective function\n",
    "study = optuna.create_study(direction=\"maximize\")\n",
    "study.optimize(objective, n_trials=5)\n",
    "\n",
    "# Get the best hyperparameters\n",
    "best_params = study.best_params\n",
    "print(\"Best hyperparameters:\", best_params)\n",
    "\n",
    "# Train the model with the best hyperparameters\n",
    "best_model = tf.keras.Sequential()\n",
    "best_model.add(layers.Conv2D(\n",
    "    best_params[\"conv1_filters\"],\n",
    "    (3, 3),\n",
    "    activation=\"relu\",\n",
    "    input_shape=(28, 28, 1)\n",
    "))\n",
    "best_model.add(layers.MaxPooling2D((2, 2)))\n",
    "best_model.add(layers.Conv2D(\n",
    "    best_params[\"conv2_filters\"],\n",
    "    (3, 3),\n",
    "    activation=\"relu\"\n",
    "))\n",
    "best_model.add(layers.MaxPooling2D((2, 2)))\n",
    "best_model.add(layers.Flatten())\n",
    "best_model.add(layers.Dense(\n",
    "    best_params[\"dense_units\"],\n",
    "    activation=\"relu\"\n",
    "))\n",
    "best_model.add(layers.Dense(10, activation=\"softmax\"))\n",
    "\n",
    "best_model.compile(\n",
    "    optimizer=\"adam\",\n",
    "    loss=tf.keras.losses.SparseCategoricalCrossentropy(from_logits=True),\n",
    "    metrics=[\"accuracy\"]\n",
    ")\n",
    "\n",
    "best_model.fit(x_train, y_train, epochs=5, validation_data=(x_test, y_test))\n",
    "\n",
    "# Evaluate\n",
    "_, accuracy = model.evaluate(x_test, y_test)"
   ]
  },
  {
   "cell_type": "code",
   "execution_count": 7,
   "id": "2467e84a",
   "metadata": {},
   "outputs": [],
   "source": [
    "import importlib.util\n",
    "name = ___ # name user\n",
    "# Specify the absolute path to the CustomCNN.py file\n",
    "custom_cnn_path = f'C:/Users/{name}/Documents/Git/AI-WORK/Advanced-Ai/CNN/CustomCNN.py'\n",
    "\n",
    "# Load the CustomCNN module\n",
    "spec = importlib.util.spec_from_file_location('CustomCNN', custom_cnn_path)\n",
    "CustomCNN = importlib.util.module_from_spec(spec)\n",
    "spec.loader.exec_module(CustomCNN)\n",
    "\n",
    "liste  = [3,2,\"gelu\",3,3,\"AveragePooling1D\"]\n",
    "a = CustomCNN.CNN_Layer(*liste)"
   ]
  },
  {
   "cell_type": "code",
   "execution_count": null,
   "id": "71360dcf",
   "metadata": {},
   "outputs": [],
   "source": [
    "def Optuna_Listelements(name_layer,liste,key,trial):\n",
    "    if type(liste[0])==int:\n",
    "        return trial.suggest_loguniform(f\"{name_layer}+{key}\", liste[0], liste[1]) \n",
    "    elif type(liste[0])==str:\n",
    "        return trial.suggest_categorical(f\"{name_layer}+{key}\", liste)"
   ]
  },
  {
   "cell_type": "code",
   "execution_count": null,
   "id": "1ef44cad",
   "metadata": {},
   "outputs": [],
   "source": [
    "for k in dictionnary:\n",
    "    dictionnary[k]"
   ]
  },
  {
   "cell_type": "code",
   "execution_count": 40,
   "id": "291688da",
   "metadata": {},
   "outputs": [
    {
     "data": {
      "text/plain": [
       "{'hyperparameter_filters': ListWrapper([8, 256, 8]),\n",
       " 'hyperparameter_kernel_size': ListWrapper([1, 10, 1]),\n",
       " 'hyperparameter_pool_size': ListWrapper([1, 10, 1]),\n",
       " 'hyperparameter_strides': ListWrapper([1, 10, 1]),\n",
       " 'hyperparameter_pooling_layer_name': ListWrapper(['MetaPoolingLayer', 'AveragePooling2D', 'MaxPooling2D', 'AveragePooling1D', 'MaxPooling1D'])}"
      ]
     },
     "execution_count": 40,
     "metadata": {},
     "output_type": "execute_result"
    }
   ],
   "source": [
    "def Optimizing_Layer(trial,name_layer,layer):\n",
    "    filters = trial.suggest_loguniform(f{name_layer}, 8, 256) \n"
   ]
  },
  {
   "cell_type": "code",
   "execution_count": 42,
   "id": "7051a532",
   "metadata": {},
   "outputs": [],
   "source": [
    "liste =a.get_hyperparameter()[\"hyperparameter_filters\"]"
   ]
  },
  {
   "cell_type": "code",
   "execution_count": null,
   "id": "6ef42df3",
   "metadata": {},
   "outputs": [],
   "source": []
  }
 ],
 "metadata": {
  "kernelspec": {
   "display_name": "Python 3 (ipykernel)",
   "language": "python",
   "name": "python3"
  },
  "language_info": {
   "codemirror_mode": {
    "name": "ipython",
    "version": 3
   },
   "file_extension": ".py",
   "mimetype": "text/x-python",
   "name": "python",
   "nbconvert_exporter": "python",
   "pygments_lexer": "ipython3",
   "version": "3.9.7"
  }
 },
 "nbformat": 4,
 "nbformat_minor": 5
}
